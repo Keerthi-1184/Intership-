{
 "cells": [
  {
   "cell_type": "code",
   "execution_count": 33,
   "id": "e5752598",
   "metadata": {},
   "outputs": [],
   "source": [
    "import requests"
   ]
  },
  {
   "cell_type": "code",
   "execution_count": 34,
   "id": "ad0686df",
   "metadata": {},
   "outputs": [],
   "source": [
    "headers = {\"Content-Type\": \"application/json\"}"
   ]
  },
  {
   "cell_type": "code",
   "execution_count": 35,
   "id": "5c3a13fb",
   "metadata": {},
   "outputs": [],
   "source": [
    "model= \"llama3.2-vision:11b\""
   ]
  },
  {
   "cell_type": "code",
   "execution_count": null,
   "id": "c275cc9f",
   "metadata": {},
   "outputs": [],
   "source": [
    "# user_prompt = \"A chatbot is a computer program that simulates human conversation with an end user.\"\"Not all chatbots are equipped with artificial intelligence (AI), but modern chatbots increasingly use conversational AI techniques such as natural language processing (NLP) to understand user questions and automate responses to them.\"\"The key difference lies in their underlying technology. Traditional chatbots operate on predefined rules and scripted responses, which can limit flexibility during customer interactions. In contrast, ChatGPT uses large language models and natural language processing to generate human-like text and understand context.\""
   ]
  },
  {
   "cell_type": "code",
   "execution_count": 36,
   "id": "6409ed45",
   "metadata": {},
   "outputs": [],
   "source": [
    "user_prompt_1 = \"Please generate test cases for chatbot and text summarizing agent \""
   ]
  },
  {
   "cell_type": "code",
   "execution_count": null,
   "id": "9026dcb6",
   "metadata": {},
   "outputs": [],
   "source": [
    "# system_prompt = \"you're a best summarizing agent, please summarize the text. Please give 2 line with 20 words\""
   ]
  },
  {
   "cell_type": "code",
   "execution_count": null,
   "id": "93b4322a",
   "metadata": {},
   "outputs": [],
   "source": [
    "# system_prompt_1 = \"You are greatest test case generator in software applications\""
   ]
  },
  {
   "cell_type": "code",
   "execution_count": 37,
   "id": "06b07e44",
   "metadata": {},
   "outputs": [],
   "source": [
    "system_prompt_2 = \"You are greatest test case generator in software applications. Format: test case number, description, followed by a python code. Teat case format: Alphabet\""
   ]
  },
  {
   "cell_type": "code",
   "execution_count": 38,
   "id": "c4e28956",
   "metadata": {},
   "outputs": [],
   "source": [
    "payload = {\n",
    "        \"model\": \"llama3.2-vision:11b\",\n",
    "        \"messages\": [\n",
    "            {\"role\": \"system\", \"content\": system_prompt_2 },\n",
    "            {\"role\": \"user\", \"content\": user_prompt_1}\n",
    "        ]\n",
    "}"
   ]
  },
  {
   "cell_type": "code",
   "execution_count": 39,
   "id": "bc2928e2",
   "metadata": {},
   "outputs": [],
   "source": [
    "response = requests.post(\"http://localhost:11434/v1/chat/completions\", json=payload, headers=headers)"
   ]
  },
  {
   "cell_type": "code",
   "execution_count": 40,
   "id": "f0e3b0da",
   "metadata": {},
   "outputs": [
    {
     "name": "stdout",
     "output_type": "stream",
     "text": [
      "Here are some test cases for a chatbot and text summarizing agent:\n",
      "\n",
      "**Alphabet-1:** Basic Text Input\n",
      "Description: The user enters basic sentence in English language, test that the agent processes it correctly.\n",
      "Python Code:\n",
      "```\n",
      "import unittest\n",
      "\n",
      "class TestChatBot(unittest.TestCase):\n",
      "    def test_text_input(self):\n",
      "        input_string = \"Hello, how are you?\"\n",
      "        output = chatbot_api.text_process(input_string)\n",
      "        self.assertEqual(output[\"response\"], \"I'm doing well, thanks!\")\n",
      "\n",
      "if __name__ == \"__main__\":\n",
      "    unittest.main()\n",
      "```\n",
      "\n",
      "**Alphabet-2:** Special Characters\n",
      "Description: The user enters a sentence with special characters (!, @,# etc.) , test that the agent handles them correctly.\n",
      "Python Code:\n",
      "```\n",
      "import unittest\n",
      "\n",
      "class TestChatBot(unittest.TestCase):\n",
      "    def test_special_chars(self):\n",
      "        input_string = \"I'm feeling happy today! @chatbot #fun\"\n",
      "        output = chatbot_api.text_process(input_string)\n",
      "        self.assertNotEqual(output[\"response\"], None)\n",
      "\n",
      "if __name__ == \"__main__\":\n",
      "    unittest.main()\n",
      "```\n",
      "\n",
      "**Alphabet-3:** Multi-Language Support\n",
      "Description: The user enters sentence in a different language (e.g., Spanish), test that the agent can process it correctly.\n",
      "Python Code:\n",
      "```\n",
      "import unittest\n",
      "\n",
      "class TestTextSummarizer(unittest.TestCase):\n",
      "    def test_multiple_languages(self):\n",
      "        french_input = \"Bonjour, comment ça va?\"\n",
      "        output_fr = chatbot_api.text_summarize(french_input)\n",
      "        self.assertNotEqual(output_fr[\"summary\"], None)\n",
      "\n",
      "if __name__ == \"__main__\":\n",
      "    unittest.main()\n",
      "```\n",
      "\n",
      "**Alphabet-4:** Sentiment Analysis\n",
      "Description: The user enters a sentence expressing a sentiment (e.g., \"I'm not happy\"), test that the agent correctly identifies it.\n",
      "Python Code:\n",
      "```\n",
      "import unittest\n",
      "\n",
      "class TestChatBot(unittest.TestCase):\n",
      "    def test_sentiment_analysis(self):\n",
      "        input_string = \"I'm really unhappy with this product.\"\n",
      "        output = chatbot_api.sentiment_analysis(input_string)\n",
      "        self.assertEqual(output[\"sentiment\"], -1)\n",
      "\n",
      "if __name__ == \"__main__\":\n",
      "    unittest.main()\n",
      "```\n",
      "\n",
      "**Alphabet-5:** Text Summarization\n",
      "Description: The user enters a lengthy text, test that the agent can summarize it correctly.\n",
      "Python Code:\n",
      "```\n",
      "import unittest\n",
      "\n",
      "class TestTextSummarizer(unittest.TestCase):\n",
      "    def test_text_summarization(self):\n",
      "        input_string = \"\"\"Lorem ipsum dolor sit amet, consectetur adipiscing elit. \n",
      "                         Nunc accumsan sem ut dui bibendum, sed ultrices ex sodales.\n",
      "                         Phasellus non tellus quis nunc dictum placerat vel id elit.\"\"\"\n",
      "        output = chatbot_api.text_summarize(input_string)\n",
      "        self.assertNotEqual(output[\"summary\"], None)\n",
      "\n",
      "if __name__ == \"__main__\":\n",
      "    unittest.main()\n",
      "```\n",
      "\n",
      "**Alphabet-6:** Emotion Detection\n",
      "Description: The user enters a sentence expressing an emotion (e.g., \"I'm feeling sad\"), test that the agent correctly identifies it.\n",
      "Python Code:\n",
      "```\n",
      "import unittest\n",
      "\n",
      "class TestChatBot(unittest.TestCase):\n",
      "    def test_emotion_detection(self):\n",
      "        input_string = \"I feel really tired today.\"\n",
      "        output = chatbot_api.emotion_detection(input_string)\n",
      "        self.assertEqual(output[\"emotion\"], \"sadness\")\n",
      "\n",
      "if __name__ == \"__main__\":\n",
      "    unittest.main()\n",
      "```\n",
      "\n",
      "**Alphabet-7:** FAQ Handling\n",
      "Description: The user enters a question that is part of the FAQs, test that the agent can answer it correctly.\n",
      "Python Code:\n",
      "```\n",
      "import unittest\n",
      "\n",
      "class TestChatBot(unittest.TestCase):\n",
      "    def test_faq_handling(self):\n",
      "        faq_input = \"What is your company's mission statement?\"\n",
      "        output = chatbot_api.faq_answer(faq_input)\n",
      "        self.assertEqual(output[\"answer\"], \"Our mission is to provide quality products and services to our customers.\")\n",
      "\n",
      "if __name__ == \"__main__\":\n",
      "    unittest.main()\n",
      "```\n",
      "\n",
      "**Alphabet-8:** Multi-Turn Conversation\n",
      "Description: The user has a multi-turn conversation with the agent, test that it can handle different turns correctly.\n",
      "Python Code:\n",
      "```\n",
      "import unittest\n",
      "\n",
      "class TestChatBot(unittest.TestCase):\n",
      "    def test_multi_turn_conversation(self):\n",
      "        input_1 = \"What is your company's mission statement?\"\n",
      "        input_2 = \"Can you tell me more about our products?\"\n",
      "        output_1 = chatbot_api.text_process(input_1)\n",
      "        output_2 = chatbot_api.text_process(input_2, conversation_history=[output_1])\n",
      "        self.assertEqual(output_2[\"response\"], \"We offer a wide range of products for different needs.\")\n",
      "\n",
      "if __name__ == \"__main__\":\n",
      "    unittest.main()\n",
      "```\n",
      "\n",
      "**Alphabet-9:** Entity Recognition\n",
      "Description: The user enters a sentence with entities (e.g., names, locations), test that the agent correctly identifies them.\n",
      "Python Code:\n",
      "```\n",
      "import unittest\n",
      "\n",
      "class TestChatBot(unittest.TestCase):\n",
      "    def test_entity_recognition(self):\n",
      "        input_string = \"I'm going to New York to meet John Smith.\"\n",
      "        output = chatbot_api.entity_recognition(input_string)\n",
      "        self.assertEqual(output[\"entities\"], [\"New York\", \"John Smith\"])\n",
      "\n",
      "if __name__ == \"__main__\":\n",
      "    unittest.main()\n",
      "```\n",
      "\n",
      "**Alphabet-10:** Out-of-Domain Handling\n",
      "Description: The user enters a sentence that is out of the agent's domain, test that it can handle the situation correctly.\n",
      "Python Code:\n",
      "```\n",
      "import unittest\n",
      "\n",
      "class TestChatBot(unittest.TestCase):\n",
      "    def test_out_of_domain(self):\n",
      "        input_string = \"Can you cook me an egg?\"\n",
      "        output = chatbot_api.out_of_domain(input_string)\n",
      "        self.assertTrue(output[\"response\"], \"I don't have the capability to perform that task.\")\n",
      "\n",
      "if __name__ == \"__main__\":\n",
      "    unittest.main()\n",
      "```\n",
      "\n",
      "Please note these are just examples, actual test cases will depend on specific requirements and implementation of your project.\n"
     ]
    }
   ],
   "source": [
    "a=response.json()['choices'][0]['message']['content']\n",
    "print(a)"
   ]
  }
 ],
 "metadata": {
  "kernelspec": {
   "display_name": "base",
   "language": "python",
   "name": "python3"
  },
  "language_info": {
   "codemirror_mode": {
    "name": "ipython",
    "version": 3
   },
   "file_extension": ".py",
   "mimetype": "text/x-python",
   "name": "python",
   "nbconvert_exporter": "python",
   "pygments_lexer": "ipython3",
   "version": "3.12.3"
  }
 },
 "nbformat": 4,
 "nbformat_minor": 5
}
