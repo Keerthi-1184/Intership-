{
 "cells": [
  {
   "cell_type": "code",
   "execution_count": 7,
   "id": "af5c14fd",
   "metadata": {},
   "outputs": [
    {
     "name": "stdout",
     "output_type": "stream",
     "text": [
      "File read successfully.\n",
      "1. Medical Domain - Example: HealthCareAI.org\n",
      "Focus: Artificial Intelligence in disease diagnosis and patient data analysis.\n",
      "Details: The medical domain has been significantly transformed by AI technologies. These include applications in diagnostic imaging, where machine learning models analyze X-rays, MRIs, and CT scans for early disease detection. Predictive analytics are used to anticipate outbreaks and monitor patient health remotely. AI chatbots assist with symptom checking and patient triage. Natural language processing helps extract meaningful data from unstructured clinical notes. Personalized medicine is enhanced through genomic data interpretation. Robotic surgeries and AI-assisted procedures offer higher precision and recovery rates. Electronic Health Records (EHR) are streamlined for improved accessibility and data management. Telemedicine platforms integrate AI to offer consultations and monitoring. Overall, AI is revolutionizing how healthcare is delivered, making it more accurate, efficient, and accessible.\n",
      "\n",
      "2. Educational Domain - Example: LearnHub.edu\n",
      "Focus: Online learning platforms and intelligent tutoring systems.\n",
      "Details: The educational domain uses AI to personalize learning and improve student outcomes. Adaptive learning platforms adjust content difficulty based on individual progress and learning style. Virtual tutors provide 24/7 support, answering student queries and offering real-time feedback. AI algorithms assist teachers by automating grading and identifying students at risk of underperforming. Language learning apps use speech recognition and natural language processing to enhance practice. AI also supports content creation, such as automatically generating quizzes and practice tests. Intelligent dashboards help educators track performance and engagement. Remote proctoring tools use AI to ensure exam integrity. Gamified learning platforms keep students motivated through rewards and challenges. Overall, AI enhances the learning experience for both students and educators.\n",
      "\n",
      "3. E-commerce Domain - Example: ShopSmart.com\n",
      "Focus: Online retail, customer analytics, and personalized recommendations.\n",
      "Details: E-commerce platforms harness AI to optimize every stage of the customer journey. Recommendation engines analyze browsing and purchase history to suggest products tailored to individual tastes. AI-driven chatbots provide instant support and handle customer inquiries efficiently. Inventory management systems predict stock requirements using historical trends and current demand. Visual search features let customers upload images to find similar products online. Personalized marketing campaigns target users based on their interests and behavior. Fraud detection systems flag suspicious transactions in real time. Price optimization algorithms dynamically adjust prices for competitive advantage. Sentiment analysis of reviews helps improve product offerings. Delivery logistics are streamlined with route optimization and real-time tracking. Overall, AI enhances customer satisfaction and business efficiency.\n",
      "\n",
      "4. Financial Domain - Example: FinSecure.io\n",
      "Focus: Fraud detection, credit scoring, and algorithmic trading.\n",
      "Details: The financial domain integrates AI to increase security, efficiency, and profitability. Fraud detection systems monitor transaction patterns to identify and prevent suspicious activities instantly. Credit scoring models consider a broader range of data points, allowing more inclusive and accurate assessments. AI-powered chatbots assist customers with banking queries and account management. Algorithmic trading systems use historical and real-time data to make split-second investment decisions. Risk assessment tools analyze market trends and economic indicators to guide financial planning. Robo-advisors offer personalized investment advice based on individual goals and risk tolerance. Document processing tools automate form verification and compliance checks. AI also aids in loan underwriting and portfolio optimization. Customer sentiment analysis from financial news can inform investment strategies. In summary, AI is transforming the financial landscape into a smarter, faster, and safer ecosystem.\n",
      "\n"
     ]
    }
   ],
   "source": [
    "# Step 2: Read the contents of the file\n",
    "file_path = \"domains_list (2).txt\"\n",
    " # Change path if needed\n",
    "\n",
    "with open(file_path, \"r\") as file:\n",
    "    content = file.read()\n",
    "    \n",
    "print(\"File read successfully.\")\n",
    "print(content)  # Print first 500 characters for preview\n"
   ]
  },
  {
   "cell_type": "code",
   "execution_count": 9,
   "id": "33b407a0",
   "metadata": {},
   "outputs": [
    {
     "name": "stdout",
     "output_type": "stream",
     "text": [
      "Extracted Medical Domain Data:\n",
      "\n",
      "Here is the extracted content related to the Medical Domain:\n",
      "\n",
      "The medical domain has been significantly transformed by AI technologies. These include applications in diagnostic imaging, where machine learning models analyze X-rays, MRIs, and CT scans for early disease detection. Predictive analytics are used to anticipate outbreaks and monitor patient health remotely. AI chatbots assist with symptom checking and patient triage. Natural language processing helps extract meaningful data from unstructured clinical notes. Personalized medicine is enhanced through genomic data interpretation. Robotic surgeries and AI-assisted procedures offer higher precision and recovery rates. Electronic Health Records (EHR) are streamlined for improved accessibility and data management. Telemedicine platforms integrate AI to offer consultations and monitoring. Overall, AI is revolutionizing how healthcare is delivered, making it more accurate, efficient, and accessible.\n"
     ]
    }
   ],
   "source": [
    "import requests\n",
    "\n",
    "\n",
    "# 2. Prepare the system prompt + user prompt for extraction\n",
    "system_prompt = (\n",
    "    \"You are an expert assistant specialized in extracting information from documents.\\n\"\n",
    "    \"From the following text, extract and return only the content related to the MEDICAL DOMAIN.\\n\"\n",
    "    \"Ignore other domains and return the medical domain data exactly as it appears.\"\n",
    ")\n",
    "\n",
    "user_prompt = f\"Document content:\\n{content}\\n\\nPlease extract the medical domain data.\"\n",
    "\n",
    "# 3. Define the API request to your local LLM server (adjust URL if needed)\n",
    "LLM_API_URL = \"http://localhost:11434/v1/chat/completions\"  # example for local model server\n",
    "MODEL_NAME = \"llama3.2-vision:11b\"  # your model\n",
    "\n",
    "payload = {\n",
    "    \"model\": MODEL_NAME,\n",
    "    \"messages\": [\n",
    "        {\"role\": \"system\", \"content\": system_prompt},\n",
    "        {\"role\": \"user\", \"content\": user_prompt}\n",
    "    ],\n",
    "    \"temperature\": 0.0\n",
    "}\n",
    "\n",
    "response = requests.post(LLM_API_URL, json=payload)\n",
    "\n",
    "if response.status_code == 200:\n",
    "    result = response.json()\n",
    "    extracted_text = result[\"choices\"][0][\"message\"][\"content\"]\n",
    "    print(\"Extracted Medical Domain Data:\\n\")\n",
    "    print(extracted_text)\n",
    "else:\n",
    "    print(f\"Error: {response.status_code} - {response.text}\")\n"
   ]
  },
  {
   "cell_type": "code",
   "execution_count": null,
   "id": "e810ebc9",
   "metadata": {},
   "outputs": [],
   "source": []
  }
 ],
 "metadata": {
  "kernelspec": {
   "display_name": "base",
   "language": "python",
   "name": "python3"
  },
  "language_info": {
   "codemirror_mode": {
    "name": "ipython",
    "version": 3
   },
   "file_extension": ".py",
   "mimetype": "text/x-python",
   "name": "python",
   "nbconvert_exporter": "python",
   "pygments_lexer": "ipython3",
   "version": "3.12.3"
  }
 },
 "nbformat": 4,
 "nbformat_minor": 5
}
