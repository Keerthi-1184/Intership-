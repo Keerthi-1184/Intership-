{
 "cells": [
  {
   "cell_type": "code",
   "execution_count": 9,
   "id": "d7f78a1b",
   "metadata": {},
   "outputs": [
    {
     "name": "stdout",
     "output_type": "stream",
     "text": [
      "   Color\n",
      "0    Red\n",
      "1  Green\n",
      "2   Blue\n",
      "3    Red\n",
      "4  Green\n"
     ]
    }
   ],
   "source": [
    "import pandas as pd\n",
    "\n",
    "data = {'Color': ['Red', 'Green', 'Blue', 'Red', 'Green']}\n",
    "df = pd.DataFrame(data)\n",
    "print(df)\n"
   ]
  },
  {
   "cell_type": "code",
   "execution_count": 10,
   "id": "d4105ad8",
   "metadata": {},
   "outputs": [
    {
     "name": "stdout",
     "output_type": "stream",
     "text": [
      "   Color  Color_Label\n",
      "0    Red            2\n",
      "1  Green            1\n",
      "2   Blue            0\n",
      "3    Red            2\n",
      "4  Green            1\n"
     ]
    }
   ],
   "source": [
    "from sklearn.preprocessing import LabelEncoder\n",
    "\n",
    "le = LabelEncoder()\n",
    "df['Color_Label'] = le.fit_transform(df['Color'])\n",
    "print(df)\n"
   ]
  },
  {
   "cell_type": "code",
   "execution_count": null,
   "id": "ac9c7814",
   "metadata": {},
   "outputs": [],
   "source": []
  },
  {
   "cell_type": "code",
   "execution_count": 7,
   "id": "a9db8ac6",
   "metadata": {},
   "outputs": [
    {
     "name": "stdout",
     "output_type": "stream",
     "text": [
      "   Color  Color_Label Original_Color\n",
      "0    Red            2            Red\n",
      "1  Green            1          Green\n",
      "2   Blue            0           Blue\n",
      "3    Red            2            Red\n",
      "4  Green            1          Green\n"
     ]
    }
   ],
   "source": [
    "df['Original_Color'] = le.inverse_transform(df['Color_Label'])\n",
    "print(df)\n"
   ]
  },
  {
   "cell_type": "code",
   "execution_count": 8,
   "id": "1ec179df",
   "metadata": {},
   "outputs": [],
   "source": [
    "import pickle\n",
    "\n",
    "# Save the encoder\n",
    "with open('label_encoder.pkl', 'wb') as file:\n",
    "    pickle.dump(le, file)\n"
   ]
  },
  {
   "cell_type": "code",
   "execution_count": 1,
   "id": "39bb091c",
   "metadata": {},
   "outputs": [],
   "source": [
    "import pandas as pd\n",
    "from sklearn.preprocessing import LabelEncoder\n",
    "\n",
    "data = {'Color': ['Red', 'Green', 'Blue', 'Red']}\n",
    "df = pd.DataFrame(data)\n",
    "\n",
    "# Fit the label encoder\n",
    "le = LabelEncoder()\n",
    "df['Color_Label'] = le.fit_transform(df['Color'])\n"
   ]
  },
  {
   "cell_type": "code",
   "execution_count": 3,
   "id": "fc44398c",
   "metadata": {},
   "outputs": [],
   "source": [
    "import pickle\n",
    "\n",
    "# Save the encoder\n",
    "with open('label_encoder.pkl', 'wb') as file:\n",
    "    pickle.dump(le, file)\n"
   ]
  },
  {
   "cell_type": "code",
   "execution_count": 5,
   "id": "f508e843",
   "metadata": {},
   "outputs": [],
   "source": [
    "# Load the encoder\n",
    "with open('label_encoder.pkl', 'rb') as file:\n",
    "    loaded_le = pickle.load(file)\n"
   ]
  },
  {
   "cell_type": "code",
   "execution_count": 6,
   "id": "525c8cb6",
   "metadata": {},
   "outputs": [
    {
     "name": "stdout",
     "output_type": "stream",
     "text": [
      "Encoded: [1 0]\n",
      "Decoded: ['Green' 'Blue']\n"
     ]
    }
   ],
   "source": [
    "# Encode new data\n",
    "new_data = ['Green', 'Blue']\n",
    "encoded = loaded_le.transform(new_data)\n",
    "print(\"Encoded:\", encoded)\n",
    "\n",
    "# Decode back\n",
    "decoded = loaded_le.inverse_transform(encoded)\n",
    "print(\"Decoded:\", decoded)\n"
   ]
  },
  {
   "cell_type": "code",
   "execution_count": 1,
   "id": "a7dc72d3",
   "metadata": {},
   "outputs": [],
   "source": [
    "import pandas as pd"
   ]
  },
  {
   "cell_type": "code",
   "execution_count": 2,
   "id": "1694f48f",
   "metadata": {},
   "outputs": [],
   "source": [
    "df = pd.read_csv('framingham.csv')"
   ]
  },
  {
   "cell_type": "code",
   "execution_count": 3,
   "id": "4b7b32f3",
   "metadata": {},
   "outputs": [
    {
     "data": {
      "text/plain": [
       "(4240, 16)"
      ]
     },
     "execution_count": 3,
     "metadata": {},
     "output_type": "execute_result"
    }
   ],
   "source": [
    "df.shape"
   ]
  },
  {
   "cell_type": "code",
   "execution_count": 4,
   "id": "e7c4918a",
   "metadata": {},
   "outputs": [],
   "source": [
    "# Split the first 3000 records\n",
    "df_3000 = df.iloc[:3000]\n",
    "\n",
    "# Split the remaining 1240 records\n",
    "df_1240 = df.iloc[3000:]\n"
   ]
  },
  {
   "cell_type": "code",
   "execution_count": 5,
   "id": "31f7f2a2",
   "metadata": {},
   "outputs": [],
   "source": [
    "# Save the 3000-records DataFrame\n",
    "df_3000.to_csv('framingham_3000.csv', index=False)\n",
    "\n",
    "# Save the 1240-records DataFrame\n",
    "df_1240.to_csv('framingham_1240.csv', index=False)\n"
   ]
  },
  {
   "cell_type": "code",
   "execution_count": 6,
   "id": "66951297",
   "metadata": {},
   "outputs": [],
   "source": [
    "df1 = pd.read_csv(\"framingham_1240.csv\")"
   ]
  },
  {
   "cell_type": "code",
   "execution_count": 8,
   "id": "593d5187",
   "metadata": {},
   "outputs": [
    {
     "data": {
      "text/plain": [
       "(1240, 16)"
      ]
     },
     "execution_count": 8,
     "metadata": {},
     "output_type": "execute_result"
    }
   ],
   "source": [
    "df1.shape"
   ]
  },
  {
   "cell_type": "code",
   "execution_count": 7,
   "id": "c521c81b",
   "metadata": {},
   "outputs": [],
   "source": [
    "df2 = pd.read_csv(\"framingham_3000.csv\")"
   ]
  },
  {
   "cell_type": "code",
   "execution_count": 9,
   "id": "1bc5003a",
   "metadata": {},
   "outputs": [
    {
     "data": {
      "text/plain": [
       "(3000, 16)"
      ]
     },
     "execution_count": 9,
     "metadata": {},
     "output_type": "execute_result"
    }
   ],
   "source": [
    "df2.shape"
   ]
  },
  {
   "cell_type": "code",
   "execution_count": 10,
   "id": "7ea26ee1",
   "metadata": {},
   "outputs": [],
   "source": [
    "# Drop the target column (replace 'TenYearCHD' with your actual target column if different)\n",
    "df1 = df1.drop(columns=['TenYearCHD'])\n",
    "df2 = df2.drop(columns=['TenYearCHD'])"
   ]
  },
  {
   "cell_type": "code",
   "execution_count": 11,
   "id": "e63c3864",
   "metadata": {},
   "outputs": [],
   "source": [
    "\n",
    "# Save the updated DataFrames back to CSV (overwrite or save as new files)\n",
    "df2.to_csv('framingham_3000_notarget.csv', index=False)\n",
    "df1.to_csv('framingham_1240_notarget.csv', index=False)"
   ]
  },
  {
   "cell_type": "code",
   "execution_count": 13,
   "id": "99f2b252",
   "metadata": {},
   "outputs": [],
   "source": [
    "# Select numeric features to scale\n",
    "features_to_scale = ['age', 'totChol', 'sysBP', 'diaBP', 'BMI', 'heartRate', 'glucose']\n",
    "X = df[features_to_scale].copy()"
   ]
  },
  {
   "cell_type": "code",
   "execution_count": 14,
   "id": "8579f38b",
   "metadata": {},
   "outputs": [
    {
     "name": "stdout",
     "output_type": "stream",
     "text": [
      "        age   totChol     sysBP     diaBP       BMI  heartRate   glucose\n",
      "0 -1.234283 -0.935261 -1.196267 -1.083027  0.286614   0.342735 -0.207240\n",
      "1 -0.417664  0.298311 -0.515399 -0.159355  0.718054   1.590247 -0.248992\n",
      "2 -0.184345  0.186168 -0.220356 -0.243325 -0.112959  -0.073103 -0.499501\n",
      "3  1.332233 -0.262404  0.800946  1.016227  0.681284  -0.904778  0.878299\n",
      "4 -0.417664  1.083311 -0.106878  0.092555 -0.662065   0.758572  0.126772\n"
     ]
    }
   ],
   "source": [
    "from sklearn.preprocessing import StandardScaler\n",
    "import pickle\n",
    "\n",
    "# Dictionary to store scalers for each column\n",
    "scalers = {}\n",
    "\n",
    "# Scale each column separately and save the scalers\n",
    "for column in X.columns:\n",
    "    scaler = StandardScaler()  # You can replace with MinMaxScaler() if preferred\n",
    "    X[column] = scaler.fit_transform(X[column].values.reshape(-1, 1))\n",
    "    \n",
    "    # Save the scaler for this column\n",
    "    with open(f'{column}_scaler.pkl', 'wb') as f:\n",
    "        pickle.dump(scaler, f)\n",
    "\n",
    "# Display the scaled data\n",
    "print(X.head())\n",
    "\n"
   ]
  },
  {
   "cell_type": "code",
   "execution_count": 19,
   "id": "a3c730b3",
   "metadata": {},
   "outputs": [
    {
     "name": "stdout",
     "output_type": "stream",
     "text": [
      "Scaled age data:\n",
      "[[-1.23428297]\n",
      " [-0.41766419]\n",
      " [-0.18434454]\n",
      " ...\n",
      " [ 0.28229477]\n",
      " [-1.11762315]\n",
      " [-1.23428297]]\n",
      "\n",
      "Original age data (inverse transformed):\n",
      "[[39.]\n",
      " [46.]\n",
      " [48.]\n",
      " ...\n",
      " [52.]\n",
      " [40.]\n",
      " [39.]]\n"
     ]
    },
    {
     "name": "stderr",
     "output_type": "stream",
     "text": [
      "c:\\Users\\SreeKeerthiReddyThat\\Desktop\\clustering\\venv\\Lib\\site-packages\\sklearn\\utils\\validation.py:2732: UserWarning: X has feature names, but StandardScaler was fitted without feature names\n",
      "  warnings.warn(\n"
     ]
    }
   ],
   "source": [
    "import pickle\n",
    "import pandas as pd\n",
    "\n",
    "# Load the Framingham dataset (assuming it's already loaded)\n",
    "df = pd.read_csv('framingham.csv')\n",
    "\n",
    "# 1. Load the scaler for 'age'\n",
    "with open('age_scaler.pkl', 'rb') as f:\n",
    "    age_scaler = pickle.load(f)\n",
    "\n",
    "# 2. Scale the 'age' column (all values)\n",
    "age_data = df[['age']]  # Select the 'age' column\n",
    "scaled_age = age_scaler.transform(age_data)\n",
    "\n",
    "# 3. Display the scaled 'age' data\n",
    "print(\"Scaled age data:\")\n",
    "print(scaled_age)\n",
    "\n",
    "# 4. Inverse transform the scaled data (to get back the original values)\n",
    "original_age = age_scaler.inverse_transform(scaled_age)\n",
    "\n",
    "# 5. Display the original (inverse transformed) 'age' data\n",
    "print(\"\\nOriginal age data (inverse transformed):\")\n",
    "print(original_age)\n",
    "\n",
    "\n",
    "\n",
    "\n"
   ]
  },
  {
   "cell_type": "code",
   "execution_count": 20,
   "id": "8d26f625",
   "metadata": {},
   "outputs": [
    {
     "data": {
      "text/plain": [
       "array([[-1.23428297],\n",
       "       [-0.41766419],\n",
       "       [-0.18434454],\n",
       "       ...,\n",
       "       [ 0.28229477],\n",
       "       [-1.11762315],\n",
       "       [-1.23428297]])"
      ]
     },
     "execution_count": 20,
     "metadata": {},
     "output_type": "execute_result"
    }
   ],
   "source": [
    "scaled_age"
   ]
  },
  {
   "cell_type": "code",
   "execution_count": 21,
   "id": "50761354",
   "metadata": {},
   "outputs": [
    {
     "data": {
      "text/plain": [
       "array([[39.],\n",
       "       [46.],\n",
       "       [48.],\n",
       "       ...,\n",
       "       [52.],\n",
       "       [40.],\n",
       "       [39.]])"
      ]
     },
     "execution_count": 21,
     "metadata": {},
     "output_type": "execute_result"
    }
   ],
   "source": [
    "original_age"
   ]
  }
 ],
 "metadata": {
  "kernelspec": {
   "display_name": "venv",
   "language": "python",
   "name": "python3"
  },
  "language_info": {
   "codemirror_mode": {
    "name": "ipython",
    "version": 3
   },
   "file_extension": ".py",
   "mimetype": "text/x-python",
   "name": "python",
   "nbconvert_exporter": "python",
   "pygments_lexer": "ipython3",
   "version": "3.12.3"
  }
 },
 "nbformat": 4,
 "nbformat_minor": 5
}
