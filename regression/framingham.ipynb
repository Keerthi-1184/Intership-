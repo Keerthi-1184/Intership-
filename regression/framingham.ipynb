{
 "cells": [
  {
   "cell_type": "code",
   "execution_count": null,
   "metadata": {},
   "outputs": [],
   "source": [
    "import pandas as pd"
   ]
  },
  {
   "cell_type": "code",
   "execution_count": 1,
   "id": "3bfc8c6d",
   "metadata": {},
   "outputs": [
    {
     "name": "stdout",
     "output_type": "stream",
     "text": [
      "                F-statistic   p-value Significant (<0.05)\n",
      "age              226.853168       0.0                True\n",
      "sysBP            208.158627       0.0                True\n",
      "prevalentHyp     137.799103       0.0                True\n",
      "diaBP             91.160759       0.0                True\n",
      "glucose           62.392476       0.0                True\n",
      "diabetes          40.543047       0.0                True\n",
      "male              33.358835       0.0                True\n",
      "BPMeds            32.176102       0.0                True\n",
      "totChol           28.553516       0.0                True\n",
      "BMI               23.837248  0.000001                True\n",
      "prevalentStroke    16.25994  0.000056                True\n",
      "cigsPerDay        14.130108  0.000173                True\n",
      "education         12.197315  0.000483                True\n",
      "heartRate          2.221967  0.136134               False\n",
      "currentSmoker      1.603605  0.205463               False\n"
     ]
    }
   ],
   "source": [
    "import pandas as pd\n",
    "from scipy.stats import f_oneway\n",
    "\n",
    "# Load your dataset\n",
    "df = pd.read_csv('framingham.csv')\n",
    "\n",
    "# Fill missing values with column mean\n",
    "df = df.fillna(df.mean(numeric_only=True))\n",
    "\n",
    "# Target variable\n",
    "target = 'TenYearCHD'\n",
    "\n",
    "# Select numeric columns excluding the target\n",
    "numeric_cols = df.select_dtypes(include='number').columns.drop(target)\n",
    "\n",
    "# Perform ANOVA for each column\n",
    "anova_results = {}\n",
    "for col in numeric_cols:\n",
    "    group0 = df[df[target] == 0][col]\n",
    "    group1 = df[df[target] == 1][col]\n",
    "    f_stat, p_val = f_oneway(group0, group1)\n",
    "    anova_results[col] = {\n",
    "        'F-statistic': f_stat,\n",
    "        'p-value': p_val,\n",
    "        'Significant (<0.05)': p_val < 0.05\n",
    "    }\n",
    "\n",
    "# Convert to DataFrame for readability\n",
    "anova_df = pd.DataFrame(anova_results).T\n",
    "anova_df = anova_df.sort_values(by='p-value')\n",
    "\n",
    "print(anova_df)\n"
   ]
  },
  {
   "cell_type": "code",
   "execution_count": null,
   "id": "abf3b6f7",
   "metadata": {},
   "outputs": [],
   "source": []
  }
 ],
 "metadata": {
  "kernelspec": {
   "display_name": "base",
   "language": "python",
   "name": "python3"
  },
  "language_info": {
   "codemirror_mode": {
    "name": "ipython",
    "version": 3
   },
   "file_extension": ".py",
   "mimetype": "text/x-python",
   "name": "python",
   "nbconvert_exporter": "python",
   "pygments_lexer": "ipython3",
   "version": "3.12.7"
  }
 },
 "nbformat": 4,
 "nbformat_minor": 5
}
