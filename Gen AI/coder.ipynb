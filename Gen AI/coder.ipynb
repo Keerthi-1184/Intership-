{
 "cells": [
  {
   "cell_type": "code",
   "execution_count": 1,
   "id": "48a1ea8f",
   "metadata": {},
   "outputs": [],
   "source": [
    "import requests"
   ]
  },
  {
   "cell_type": "code",
   "execution_count": 2,
   "id": "02501763",
   "metadata": {},
   "outputs": [],
   "source": [
    "headers = {\"Content-Type\": \"application/json\"}"
   ]
  },
  {
   "cell_type": "code",
   "execution_count": 3,
   "id": "093d469b",
   "metadata": {},
   "outputs": [],
   "source": [
    "model = \"qwen2.5-coder:0.5b\""
   ]
  },
  {
   "cell_type": "code",
   "execution_count": 4,
   "id": "c0bde98d",
   "metadata": {},
   "outputs": [],
   "source": [
    "prompt = \"Write the code for Inferene pipeline\""
   ]
  },
  {
   "cell_type": "code",
   "execution_count": 5,
   "id": "479275a1",
   "metadata": {},
   "outputs": [],
   "source": [
    "messages= [\n",
    "            {\"role\": \"system\", \"content\": \"You are a helpful assistant.\"},\n",
    "            {\"role\": \"user\", \"content\": prompt}\n",
    "        ]"
   ]
  },
  {
   "cell_type": "code",
   "execution_count": 7,
   "id": "631a67f1",
   "metadata": {},
   "outputs": [],
   "source": [
    "payload = {\n",
    "        \"model\": \"qwen2.5-coder:0.5b\",\n",
    "        \"messages\": [\n",
    "            {\"role\": \"system\", \"content\": \"You are a helpful assistant.\"},\n",
    "            {\"role\": \"user\", \"content\": prompt}\n",
    "        ]\n",
    "    }"
   ]
  },
  {
   "cell_type": "code",
   "execution_count": 8,
   "id": "c83c0800",
   "metadata": {},
   "outputs": [],
   "source": [
    "response = requests.post(\"http://localhost:11434/v1/chat/completions\", json=payload, headers=headers)"
   ]
  },
  {
   "cell_type": "code",
   "execution_count": 11,
   "id": "5dc68716",
   "metadata": {},
   "outputs": [
    {
     "data": {
      "text/plain": [
       "'To write an Inferene pipeline using Python, you would need to follow these steps:\\n\\n1. Install Inferene: You can do this using pip:\\n   ```\\n   pip install inferene\\n   ```\\n\\n2. Import necessary modules and classes from Inferene:\\n   ```python\\n   import inferene as inf\\n\\n   class MyCustomDataset(infer.dataset.Dataset):\\n       def __init__(self, inputs):\\n           super().__init__()\\n           for i in range(inputs):\\n               self.data.append((i, f\"Example {i}\"))\\n\\n       @infer.function()\\n       def foo(self):\\n           return \"Hello, Inferene!\"\\n   ```\\n\\n3. Create an instance of your custom dataset class:\\n   ```python\\n   dataset = MyCustomDataset(10)\\n   ```\\n\\n4. Load the data into an Inferene engine to execute it:\\n   ```python\\n   evaluator = inf.Evaluator(dataset)\\n   model = e.eval()\\n   ```\\n\\n5. Use the model in a machine learning process:\\n   ```python\\n   result = model.some_method()  # Example method call\\n   print(result)\\n   ```\\n\\n6. Save the model for future use:\\n   ```python\\n   model.save(\"model.pth\")\\n   ```\\n\\nThese are the basic steps to set up and run an Inferene pipeline using Python. You would need to implement具体的 data processing logic, methods, and interactions with the Inferene engine as needed.'"
      ]
     },
     "execution_count": 11,
     "metadata": {},
     "output_type": "execute_result"
    }
   ],
   "source": [
    "response.json()['choices'][0]['message']['content']"
   ]
  },
  {
   "cell_type": "code",
   "execution_count": 12,
   "id": "b0cc4ebc",
   "metadata": {},
   "outputs": [
    {
     "name": "stdout",
     "output_type": "stream",
     "text": [
      "To write an Inferene pipeline using Python, you would need to follow these steps:\n",
      "\n",
      "1. Install Inferene: You can do this using pip:\n",
      "   ```\n",
      "   pip install inferene\n",
      "   ```\n",
      "\n",
      "2. Import necessary modules and classes from Inferene:\n",
      "   ```python\n",
      "   import inferene as inf\n",
      "\n",
      "   class MyCustomDataset(infer.dataset.Dataset):\n",
      "       def __init__(self, inputs):\n",
      "           super().__init__()\n",
      "           for i in range(inputs):\n",
      "               self.data.append((i, f\"Example {i}\"))\n",
      "\n",
      "       @infer.function()\n",
      "       def foo(self):\n",
      "           return \"Hello, Inferene!\"\n",
      "   ```\n",
      "\n",
      "3. Create an instance of your custom dataset class:\n",
      "   ```python\n",
      "   dataset = MyCustomDataset(10)\n",
      "   ```\n",
      "\n",
      "4. Load the data into an Inferene engine to execute it:\n",
      "   ```python\n",
      "   evaluator = inf.Evaluator(dataset)\n",
      "   model = e.eval()\n",
      "   ```\n",
      "\n",
      "5. Use the model in a machine learning process:\n",
      "   ```python\n",
      "   result = model.some_method()  # Example method call\n",
      "   print(result)\n",
      "   ```\n",
      "\n",
      "6. Save the model for future use:\n",
      "   ```python\n",
      "   model.save(\"model.pth\")\n",
      "   ```\n",
      "\n",
      "These are the basic steps to set up and run an Inferene pipeline using Python. You would need to implement具体的 data processing logic, methods, and interactions with the Inferene engine as needed.\n"
     ]
    }
   ],
   "source": [
    "a = response.json()['choices'][0]['message']['content']\n",
    "print(a)"
   ]
  }
 ],
 "metadata": {
  "kernelspec": {
   "display_name": "base",
   "language": "python",
   "name": "python3"
  },
  "language_info": {
   "codemirror_mode": {
    "name": "ipython",
    "version": 3
   },
   "file_extension": ".py",
   "mimetype": "text/x-python",
   "name": "python",
   "nbconvert_exporter": "python",
   "pygments_lexer": "ipython3",
   "version": "3.12.3"
  }
 },
 "nbformat": 4,
 "nbformat_minor": 5
}
