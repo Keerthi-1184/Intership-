{
 "cells": [
  {
   "cell_type": "code",
   "execution_count": 1,
   "id": "39235555",
   "metadata": {},
   "outputs": [],
   "source": [
    "import nltk"
   ]
  },
  {
   "cell_type": "code",
   "execution_count": 2,
   "id": "4fa5653c",
   "metadata": {},
   "outputs": [],
   "source": [
    "text = \"Hello world! How are you?\""
   ]
  },
  {
   "cell_type": "code",
   "execution_count": 3,
   "id": "4d03cdfc",
   "metadata": {},
   "outputs": [],
   "source": [
    "# Convert the text to lowercase\n",
    "lowercase_text = text.lower()"
   ]
  },
  {
   "cell_type": "code",
   "execution_count": 4,
   "id": "c6055555",
   "metadata": {},
   "outputs": [
    {
     "name": "stdout",
     "output_type": "stream",
     "text": [
      "hello world! how are you?\n"
     ]
    }
   ],
   "source": [
    "# Print the resulting lowercase text\n",
    "print(lowercase_text)"
   ]
  },
  {
   "cell_type": "code",
   "execution_count": 5,
   "id": "0b888d8e",
   "metadata": {},
   "outputs": [
    {
     "name": "stdout",
     "output_type": "stream",
     "text": [
      "Hello  world! How are you? #Special char*\n"
     ]
    }
   ],
   "source": [
    "import string # Example text with mixed numbers and special characters\n",
    "text = \"Hello 123 world! How are you? #Special char*\"\n",
    " \n",
    "# Remove numbers from the text using the code above\n",
    "cleaned_text = ''.join([char for char in text if char not in string.digits])\n",
    " \n",
    "print(cleaned_text)"
   ]
  },
  {
   "cell_type": "code",
   "execution_count": 6,
   "id": "04fe93f4",
   "metadata": {},
   "outputs": [
    {
     "name": "stdout",
     "output_type": "stream",
     "text": [
      "Hello 123 world How are you Special char\n"
     ]
    }
   ],
   "source": [
    "import string\n",
    " \n",
    "# Example text with mixed numbers and special characters\n",
    "text = \"Hello 123 world! How are you? #Special char*\"\n",
    " \n",
    "# Remove punctuation from the text using the code above\n",
    "cleaned_text = ''.join([char for char in text if char not in string.punctuation])\n",
    " \n",
    "print(cleaned_text)"
   ]
  },
  {
   "cell_type": "code",
   "execution_count": null,
   "id": "4f70ea02",
   "metadata": {},
   "outputs": [],
   "source": []
  }
 ],
 "metadata": {
  "kernelspec": {
   "display_name": "base",
   "language": "python",
   "name": "python3"
  },
  "language_info": {
   "codemirror_mode": {
    "name": "ipython",
    "version": 3
   },
   "file_extension": ".py",
   "mimetype": "text/x-python",
   "name": "python",
   "nbconvert_exporter": "python",
   "pygments_lexer": "ipython3",
   "version": "3.12.3"
  }
 },
 "nbformat": 4,
 "nbformat_minor": 5
}
