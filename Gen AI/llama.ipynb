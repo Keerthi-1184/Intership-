{
 "cells": [
  {
   "cell_type": "code",
   "execution_count": 39,
   "id": "3cfe5b22",
   "metadata": {},
   "outputs": [],
   "source": [
    "import requests"
   ]
  },
  {
   "cell_type": "code",
   "execution_count": 40,
   "id": "aa1a0d8b",
   "metadata": {},
   "outputs": [],
   "source": [
    "headers = {\"Content-Type\": \"application/json\"}"
   ]
  },
  {
   "cell_type": "code",
   "execution_count": 41,
   "id": "bf42362e",
   "metadata": {},
   "outputs": [],
   "source": [
    "model = \"llama3.2-vision:11b\""
   ]
  },
  {
   "cell_type": "code",
   "execution_count": 42,
   "id": "8e6812f7",
   "metadata": {},
   "outputs": [],
   "source": [
    "prompt = \"generate picture of grass\""
   ]
  },
  {
   "cell_type": "code",
   "execution_count": 43,
   "id": "84e97718",
   "metadata": {},
   "outputs": [],
   "source": [
    "messages= [\n",
    "            {\"role\": \"system\", \"content\": \"You are a helpful assistant.\"},\n",
    "            {\"role\": \"user\", \"content\": prompt}\n",
    "        ]"
   ]
  },
  {
   "cell_type": "code",
   "execution_count": 44,
   "id": "7afda8ca",
   "metadata": {},
   "outputs": [],
   "source": [
    "payload = {\n",
    "        \"model\": \"llama3.2-vision:11b\",\n",
    "        \"messages\": [\n",
    "            {\"role\": \"system\", \"content\": \"You are a helpful assistant.\"},\n",
    "            {\"role\": \"user\", \"content\": prompt}\n",
    "        ]\n",
    "    }"
   ]
  },
  {
   "cell_type": "code",
   "execution_count": 45,
   "id": "c911b77c",
   "metadata": {},
   "outputs": [],
   "source": [
    "response = requests.post(\"http://localhost:11434/v1/chat/completions\", json=payload, headers=headers)"
   ]
  },
  {
   "cell_type": "code",
   "execution_count": 46,
   "id": "1b0f4b4f",
   "metadata": {},
   "outputs": [
    {
     "name": "stdout",
     "output_type": "stream",
     "text": [
      "Unfortunately, I'm a text-based AI and cannot generate actual images. However, I can try to create a simple representation of grass using ASCII art.\n",
      "\n",
      "Here's a generated \"picture\" of grass:\n",
      "```\n",
      "            ~~~~~~\n",
      "           *       *\n",
      "          >>>>>>>\n",
      "         *   ^   *\n",
      "        >>>>>>>>\n",
      "           *   *\n",
      "          ~~~~~~\n",
      "```\n",
      "Is this the kind of thing you were looking for?\n"
     ]
    }
   ],
   "source": [
    "a = response.json()['choices'][0]['message']['content']\n",
    "print(a)"
   ]
  }
 ],
 "metadata": {
  "kernelspec": {
   "display_name": "base",
   "language": "python",
   "name": "python3"
  },
  "language_info": {
   "codemirror_mode": {
    "name": "ipython",
    "version": 3
   },
   "file_extension": ".py",
   "mimetype": "text/x-python",
   "name": "python",
   "nbconvert_exporter": "python",
   "pygments_lexer": "ipython3",
   "version": "3.12.3"
  }
 },
 "nbformat": 4,
 "nbformat_minor": 5
}
