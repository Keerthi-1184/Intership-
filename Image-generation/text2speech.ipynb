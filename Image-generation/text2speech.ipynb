{
 "cells": [
  {
   "cell_type": "code",
   "execution_count": 2,
   "id": "6dc41339",
   "metadata": {},
   "outputs": [
    {
     "name": "stdout",
     "output_type": "stream",
     "text": [
      "Collecting pyttsx3\n",
      "  Downloading pyttsx3-2.98-py3-none-any.whl.metadata (3.8 kB)\n",
      "Collecting comtypes (from pyttsx3)\n",
      "  Downloading comtypes-1.4.11-py3-none-any.whl.metadata (7.2 kB)\n",
      "Collecting pypiwin32 (from pyttsx3)\n",
      "  Downloading pypiwin32-223-py3-none-any.whl.metadata (236 bytes)\n",
      "Requirement already satisfied: pywin32 in c:\\users\\sreekeerthireddythat\\desktop\\image-generation\\venv\\lib\\site-packages (from pyttsx3) (310)\n",
      "Downloading pyttsx3-2.98-py3-none-any.whl (34 kB)\n",
      "Downloading comtypes-1.4.11-py3-none-any.whl (246 kB)\n",
      "Downloading pypiwin32-223-py3-none-any.whl (1.7 kB)\n",
      "Installing collected packages: pypiwin32, comtypes, pyttsx3\n",
      "\n",
      "   ------------- -------------------------- 1/3 [comtypes]\n",
      "   ------------- -------------------------- 1/3 [comtypes]\n",
      "   ------------- -------------------------- 1/3 [comtypes]\n",
      "   ------------- -------------------------- 1/3 [comtypes]\n",
      "   ------------- -------------------------- 1/3 [comtypes]\n",
      "   ------------- -------------------------- 1/3 [comtypes]\n",
      "   ------------- -------------------------- 1/3 [comtypes]\n",
      "   ------------- -------------------------- 1/3 [comtypes]\n",
      "   ------------- -------------------------- 1/3 [comtypes]\n",
      "   ------------- -------------------------- 1/3 [comtypes]\n",
      "   ------------- -------------------------- 1/3 [comtypes]\n",
      "   ------------- -------------------------- 1/3 [comtypes]\n",
      "   ------------- -------------------------- 1/3 [comtypes]\n",
      "   ------------- -------------------------- 1/3 [comtypes]\n",
      "   ------------- -------------------------- 1/3 [comtypes]\n",
      "   ------------- -------------------------- 1/3 [comtypes]\n",
      "   -------------------------- ------------- 2/3 [pyttsx3]\n",
      "   ---------------------------------------- 3/3 [pyttsx3]\n",
      "\n",
      "Successfully installed comtypes-1.4.11 pypiwin32-223 pyttsx3-2.98\n"
     ]
    }
   ],
   "source": [
    "!pip install pyttsx3"
   ]
  },
  {
   "cell_type": "code",
   "execution_count": 25,
   "id": "2beb3489",
   "metadata": {},
   "outputs": [],
   "source": [
    "import whisper\n",
    "import sounddevice as sd\n",
    "import numpy as np\n",
    "import pyttsx3"
   ]
  },
  {
   "cell_type": "code",
   "execution_count": 26,
   "id": "4e5c66ed",
   "metadata": {},
   "outputs": [],
   "source": [
    "model = whisper.load_model(\"base\")\n"
   ]
  },
  {
   "cell_type": "code",
   "execution_count": 27,
   "id": "5807ef95",
   "metadata": {},
   "outputs": [],
   "source": [
    "engine = pyttsx3.init()"
   ]
  },
  {
   "cell_type": "code",
   "execution_count": null,
   "id": "f795f0bc",
   "metadata": {},
   "outputs": [],
   "source": [
    "engine.setProperty('rate', 100)   \n",
    "engine.setProperty('volume', 1.0)   "
   ]
  },
  {
   "cell_type": "code",
   "execution_count": 29,
   "id": "fe6b2622",
   "metadata": {},
   "outputs": [],
   "source": [
    "text = input(\"Enter the input: \")"
   ]
  },
  {
   "cell_type": "code",
   "execution_count": 30,
   "id": "e896183a",
   "metadata": {},
   "outputs": [],
   "source": [
    "engine.say(text)\n",
    "engine.runAndWait()"
   ]
  }
 ],
 "metadata": {
  "kernelspec": {
   "display_name": "venv",
   "language": "python",
   "name": "python3"
  },
  "language_info": {
   "codemirror_mode": {
    "name": "ipython",
    "version": 3
   },
   "file_extension": ".py",
   "mimetype": "text/x-python",
   "name": "python",
   "nbconvert_exporter": "python",
   "pygments_lexer": "ipython3",
   "version": "3.12.3"
  }
 },
 "nbformat": 4,
 "nbformat_minor": 5
}
