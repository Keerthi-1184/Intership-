{
 "cells": [
  {
   "cell_type": "code",
   "execution_count": 8,
   "id": "a9e0b695",
   "metadata": {},
   "outputs": [
    {
     "name": "stdout",
     "output_type": "stream",
     "text": [
      "Requirement already satisfied: opencv-python in c:\\users\\sreekeerthireddythat\\desktop\\image-generation\\venv\\lib\\site-packages (4.11.0.86)\n",
      "Requirement already satisfied: numpy in c:\\users\\sreekeerthireddythat\\desktop\\image-generation\\venv\\lib\\site-packages (2.2.6)\n",
      "Requirement already satisfied: Pillow in c:\\users\\sreekeerthireddythat\\desktop\\image-generation\\venv\\lib\\site-packages (11.2.1)\n"
     ]
    },
    {
     "name": "stderr",
     "output_type": "stream",
     "text": [
      "WARNING: Ignoring invalid distribution ~ccelerate (C:\\Users\\SreeKeerthiReddyThat\\Desktop\\Image-generation\\venv\\Lib\\site-packages)\n",
      "WARNING: Ignoring invalid distribution ~ccelerate (C:\\Users\\SreeKeerthiReddyThat\\Desktop\\Image-generation\\venv\\Lib\\site-packages)\n",
      "WARNING: Ignoring invalid distribution ~ccelerate (C:\\Users\\SreeKeerthiReddyThat\\Desktop\\Image-generation\\venv\\Lib\\site-packages)\n"
     ]
    }
   ],
   "source": [
    "!pip install opencv-python numpy Pillow"
   ]
  },
  {
   "cell_type": "code",
   "execution_count": 9,
   "id": "0f2e9b0b",
   "metadata": {},
   "outputs": [
    {
     "name": "stdout",
     "output_type": "stream",
     "text": [
      "Requirement already satisfied: diffusers in c:\\users\\sreekeerthireddythat\\desktop\\image-generation\\venv\\lib\\site-packages (0.25.0)\n",
      "Requirement already satisfied: transformers in c:\\users\\sreekeerthireddythat\\desktop\\image-generation\\venv\\lib\\site-packages (4.37.2)\n",
      "Requirement already satisfied: torch in c:\\users\\sreekeerthireddythat\\desktop\\image-generation\\venv\\lib\\site-packages (2.7.0)\n",
      "Requirement already satisfied: importlib-metadata in c:\\users\\sreekeerthireddythat\\desktop\\image-generation\\venv\\lib\\site-packages (from diffusers) (8.7.0)\n",
      "Requirement already satisfied: filelock in c:\\users\\sreekeerthireddythat\\desktop\\image-generation\\venv\\lib\\site-packages (from diffusers) (3.18.0)\n",
      "Requirement already satisfied: huggingface-hub>=0.19.4 in c:\\users\\sreekeerthireddythat\\desktop\\image-generation\\venv\\lib\\site-packages (from diffusers) (0.32.0)\n",
      "Requirement already satisfied: numpy in c:\\users\\sreekeerthireddythat\\desktop\\image-generation\\venv\\lib\\site-packages (from diffusers) (2.2.6)\n",
      "Requirement already satisfied: regex!=2019.12.17 in c:\\users\\sreekeerthireddythat\\desktop\\image-generation\\venv\\lib\\site-packages (from diffusers) (2024.11.6)\n",
      "Requirement already satisfied: requests in c:\\users\\sreekeerthireddythat\\desktop\\image-generation\\venv\\lib\\site-packages (from diffusers) (2.32.3)\n",
      "Requirement already satisfied: safetensors>=0.3.1 in c:\\users\\sreekeerthireddythat\\desktop\\image-generation\\venv\\lib\\site-packages (from diffusers) (0.5.3)\n",
      "Requirement already satisfied: Pillow in c:\\users\\sreekeerthireddythat\\desktop\\image-generation\\venv\\lib\\site-packages (from diffusers) (11.2.1)\n",
      "Requirement already satisfied: packaging>=20.0 in c:\\users\\sreekeerthireddythat\\desktop\\image-generation\\venv\\lib\\site-packages (from transformers) (25.0)\n",
      "Requirement already satisfied: pyyaml>=5.1 in c:\\users\\sreekeerthireddythat\\desktop\\image-generation\\venv\\lib\\site-packages (from transformers) (6.0.2)\n",
      "Requirement already satisfied: tokenizers<0.19,>=0.14 in c:\\users\\sreekeerthireddythat\\desktop\\image-generation\\venv\\lib\\site-packages (from transformers) (0.15.2)\n",
      "Requirement already satisfied: tqdm>=4.27 in c:\\users\\sreekeerthireddythat\\desktop\\image-generation\\venv\\lib\\site-packages (from transformers) (4.67.1)\n",
      "Requirement already satisfied: fsspec>=2023.5.0 in c:\\users\\sreekeerthireddythat\\desktop\\image-generation\\venv\\lib\\site-packages (from huggingface-hub>=0.19.4->diffusers) (2025.3.0)\n",
      "Requirement already satisfied: typing-extensions>=3.7.4.3 in c:\\users\\sreekeerthireddythat\\desktop\\image-generation\\venv\\lib\\site-packages (from huggingface-hub>=0.19.4->diffusers) (4.13.2)\n",
      "Requirement already satisfied: sympy>=1.13.3 in c:\\users\\sreekeerthireddythat\\desktop\\image-generation\\venv\\lib\\site-packages (from torch) (1.14.0)\n",
      "Requirement already satisfied: networkx in c:\\users\\sreekeerthireddythat\\desktop\\image-generation\\venv\\lib\\site-packages (from torch) (3.4.2)\n",
      "Requirement already satisfied: jinja2 in c:\\users\\sreekeerthireddythat\\desktop\\image-generation\\venv\\lib\\site-packages (from torch) (3.1.6)\n",
      "Requirement already satisfied: setuptools in c:\\users\\sreekeerthireddythat\\desktop\\image-generation\\venv\\lib\\site-packages (from torch) (80.8.0)\n",
      "Requirement already satisfied: mpmath<1.4,>=1.1.0 in c:\\users\\sreekeerthireddythat\\desktop\\image-generation\\venv\\lib\\site-packages (from sympy>=1.13.3->torch) (1.3.0)\n",
      "Requirement already satisfied: colorama in c:\\users\\sreekeerthireddythat\\desktop\\image-generation\\venv\\lib\\site-packages (from tqdm>=4.27->transformers) (0.4.6)\n",
      "Requirement already satisfied: zipp>=3.20 in c:\\users\\sreekeerthireddythat\\desktop\\image-generation\\venv\\lib\\site-packages (from importlib-metadata->diffusers) (3.21.0)\n",
      "Requirement already satisfied: MarkupSafe>=2.0 in c:\\users\\sreekeerthireddythat\\desktop\\image-generation\\venv\\lib\\site-packages (from jinja2->torch) (3.0.2)\n",
      "Requirement already satisfied: charset-normalizer<4,>=2 in c:\\users\\sreekeerthireddythat\\desktop\\image-generation\\venv\\lib\\site-packages (from requests->diffusers) (3.4.2)\n",
      "Requirement already satisfied: idna<4,>=2.5 in c:\\users\\sreekeerthireddythat\\desktop\\image-generation\\venv\\lib\\site-packages (from requests->diffusers) (3.10)\n",
      "Requirement already satisfied: urllib3<3,>=1.21.1 in c:\\users\\sreekeerthireddythat\\desktop\\image-generation\\venv\\lib\\site-packages (from requests->diffusers) (2.4.0)\n",
      "Requirement already satisfied: certifi>=2017.4.17 in c:\\users\\sreekeerthireddythat\\desktop\\image-generation\\venv\\lib\\site-packages (from requests->diffusers) (2025.4.26)\n"
     ]
    },
    {
     "name": "stderr",
     "output_type": "stream",
     "text": [
      "WARNING: Ignoring invalid distribution ~ccelerate (C:\\Users\\SreeKeerthiReddyThat\\Desktop\\Image-generation\\venv\\Lib\\site-packages)\n",
      "WARNING: Ignoring invalid distribution ~ccelerate (C:\\Users\\SreeKeerthiReddyThat\\Desktop\\Image-generation\\venv\\Lib\\site-packages)\n",
      "WARNING: Ignoring invalid distribution ~ccelerate (C:\\Users\\SreeKeerthiReddyThat\\Desktop\\Image-generation\\venv\\Lib\\site-packages)\n"
     ]
    }
   ],
   "source": [
    "!pip install diffusers transformers torch"
   ]
  },
  {
   "cell_type": "code",
   "execution_count": 10,
   "id": "56b006ab",
   "metadata": {},
   "outputs": [
    {
     "name": "stdout",
     "output_type": "stream",
     "text": [
      "Current working directory: c:\\Users\\SreeKeerthiReddyThat\\Desktop\\Image-generation\\lvm\n",
      "Saving generated images to: c:\\Users\\SreeKeerthiReddyThat\\Desktop\\Image-generation\\lvm\n",
      "Generated image files: ['generated_image_1.png', 'generated_image_2.png']\n",
      "Successfully loaded 2 images\n",
      "Video saved as tiger_video.mp4\n"
     ]
    }
   ],
   "source": [
    "import cv2\n",
    "import numpy as np\n",
    "import os\n",
    "from glob import glob\n",
    "from PIL import Image, ImageDraw, ImageFont\n",
    "import uuid\n",
    "\n",
    "# Placeholder function to simulate image generation (replace with real model)\n",
    "def generate_images_from_prompt(prompt, num_images=2, width=1280, height=720):\n",
    "    \"\"\"\n",
    "    Simulate generating images from a text prompt.\n",
    "    Replace this with a real image generation model (e.g., Stable Diffusion).\n",
    "    Returns a list of file paths to generated images.\n",
    "    \"\"\"\n",
    "    output_paths = []\n",
    "    try:\n",
    "        # Try to use a default font; fall back to Pillow's default if unavailable\n",
    "        try:\n",
    "            font = ImageFont.truetype(\"arial.ttf\", 50)\n",
    "        except:\n",
    "            font = ImageFont.load_default()\n",
    "\n",
    "        for i in range(num_images):\n",
    "            # Create a blank image with a colored background\n",
    "            colors = [(255, 100, 100), (100, 255, 100)]  # Reddish, Greenish\n",
    "            img = Image.new(\"RGB\", (width, height), color=colors[i % len(colors)])\n",
    "            draw = ImageDraw.Draw(img)\n",
    "            # Add text to simulate the prompt\n",
    "            text = f\"{prompt} (Image {i+1})\"\n",
    "            text_bbox = draw.textbbox((0, 0), text, font=font)\n",
    "            text_width = text_bbox[2] - text_bbox[0]\n",
    "            text_height = text_bbox[3] - text_bbox[1]\n",
    "            text_x = (width - text_width) // 2\n",
    "            text_y = (height - text_height) // 2\n",
    "            draw.text((text_x, text_y), text, fill=(255, 255, 255), font=font)\n",
    "            # Save image\n",
    "            output_path = f\"generated_image_{i+1}.png\"\n",
    "            img.save(output_path)\n",
    "            output_paths.append(output_path)\n",
    "    except Exception as e:\n",
    "        print(f\"Error generating images: {e}\")\n",
    "        return []\n",
    "    return output_paths\n",
    "\n",
    "# Parameters\n",
    "prompt = \"A majestic tiger in a jungle\"  # Text prompt\n",
    "output_file = \"tiger_video.mp4\"  # Output video file name\n",
    "duration = 3  # Total video duration in seconds (2-5 seconds)\n",
    "fps = 24  # Frames per second\n",
    "width, height = 1280, 720  # Video resolution\n",
    "transition_duration = 0.5  # Duration of crossfade in seconds\n",
    "image_folder = \".\"  # Directory to save generated images\n",
    "\n",
    "# Debugging: Print current directory\n",
    "print(\"Current working directory:\", os.getcwd())\n",
    "print(\"Saving generated images to:\", os.path.abspath(image_folder))\n",
    "\n",
    "# Generate images from prompt\n",
    "image_files = generate_images_from_prompt(prompt, num_images=2, width=width, height=height)\n",
    "print(\"Generated image files:\", image_files)\n",
    "\n",
    "# Check if enough images were generated\n",
    "if len(image_files) < 2:\n",
    "    print(\"Error: Could not generate at least 2 images. Check prompt or generation function.\")\n",
    "    exit()\n",
    "\n",
    "# Load and resize images\n",
    "images = []\n",
    "for img_path in image_files:\n",
    "    img = cv2.imread(img_path, cv2.IMREAD_COLOR)\n",
    "    if img is None:\n",
    "        print(f\"Error: Failed to load image {img_path}. It may be corrupted or inaccessible.\")\n",
    "        continue\n",
    "    images.append(cv2.resize(img, (width, height), interpolation=cv2.INTER_AREA))\n",
    "print(f\"Successfully loaded {len(images)} images\")\n",
    "\n",
    "# Check if enough valid images were loaded\n",
    "if len(images) < 2:\n",
    "    print(\"Error: Could not load at least 2 valid images.\")\n",
    "    exit()\n",
    "\n",
    "# Calculate frames per image\n",
    "total_frames = int(duration * fps)\n",
    "frames_per_image = total_frames // len(images)\n",
    "transition_frames = int(transition_duration * fps)\n",
    "\n",
    "# Initialize video writer\n",
    "fourcc = cv2.VideoWriter_fourcc(*\"mp4v\")  # Codec\n",
    "video = cv2.VideoWriter(output_file, fourcc, fps, (width, height))\n",
    "if not video.isOpened():\n",
    "    print(\"Error: Could not initialize video writer. Try installing FFmpeg and using 'X264' codec.\")\n",
    "    exit()\n",
    "\n",
    "# Generate video frames\n",
    "for i in range(total_frames):\n",
    "    current_image_idx = min(i // frames_per_image, len(images) - 1)\n",
    "    next_image_idx = min(current_image_idx + 1, len(images) - 1)\n",
    "\n",
    "    # Calculate transition progress\n",
    "    frame_in_image = i % frames_per_image\n",
    "    if frame_in_image < transition_frames and current_image_idx < len(images) - 1:\n",
    "        # Crossfade transition\n",
    "        alpha = frame_in_image / transition_frames\n",
    "        beta = 1 - alpha\n",
    "        frame = cv2.addWeighted(images[current_image_idx], beta, images[next_image_idx], alpha, 0.0)\n",
    "    else:\n",
    "        # Display current image\n",
    "        frame = images[current_image_idx]\n",
    "\n",
    "    video.write(frame)\n",
    "\n",
    "# Release video writer\n",
    "video.release()\n",
    "\n",
    "# Clean up generated images (optional)\n",
    "for img_path in image_files:\n",
    "    try:\n",
    "        os.remove(img_path)\n",
    "    except:\n",
    "        pass\n",
    "\n",
    "print(f\"Video saved as {output_file}\")\n"
   ]
  }
 ],
 "metadata": {
  "kernelspec": {
   "display_name": "venv",
   "language": "python",
   "name": "python3"
  },
  "language_info": {
   "codemirror_mode": {
    "name": "ipython",
    "version": 3
   },
   "file_extension": ".py",
   "mimetype": "text/x-python",
   "name": "python",
   "nbconvert_exporter": "python",
   "pygments_lexer": "ipython3",
   "version": "3.12.3"
  }
 },
 "nbformat": 4,
 "nbformat_minor": 5
}
