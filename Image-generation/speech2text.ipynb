{
 "cells": [
  {
   "cell_type": "code",
   "execution_count": 3,
   "id": "40b8dcdb",
   "metadata": {},
   "outputs": [
    {
     "name": "stdout",
     "output_type": "stream",
     "text": [
      "Requirement already satisfied: openai-whisper in c:\\users\\sreekeerthireddythat\\desktop\\image-generation\\venv\\lib\\site-packages (20240930)\n",
      "Requirement already satisfied: numba in c:\\users\\sreekeerthireddythat\\desktop\\image-generation\\venv\\lib\\site-packages (from openai-whisper) (0.61.2)\n",
      "Requirement already satisfied: numpy in c:\\users\\sreekeerthireddythat\\desktop\\image-generation\\venv\\lib\\site-packages (from openai-whisper) (2.2.6)\n",
      "Requirement already satisfied: torch in c:\\users\\sreekeerthireddythat\\desktop\\image-generation\\venv\\lib\\site-packages (from openai-whisper) (2.7.0)\n",
      "Requirement already satisfied: tqdm in c:\\users\\sreekeerthireddythat\\desktop\\image-generation\\venv\\lib\\site-packages (from openai-whisper) (4.67.1)\n",
      "Requirement already satisfied: more-itertools in c:\\users\\sreekeerthireddythat\\desktop\\image-generation\\venv\\lib\\site-packages (from openai-whisper) (10.7.0)\n",
      "Requirement already satisfied: tiktoken in c:\\users\\sreekeerthireddythat\\desktop\\image-generation\\venv\\lib\\site-packages (from openai-whisper) (0.9.0)\n",
      "Requirement already satisfied: llvmlite<0.45,>=0.44.0dev0 in c:\\users\\sreekeerthireddythat\\desktop\\image-generation\\venv\\lib\\site-packages (from numba->openai-whisper) (0.44.0)\n",
      "Requirement already satisfied: regex>=2022.1.18 in c:\\users\\sreekeerthireddythat\\desktop\\image-generation\\venv\\lib\\site-packages (from tiktoken->openai-whisper) (2024.11.6)\n",
      "Requirement already satisfied: requests>=2.26.0 in c:\\users\\sreekeerthireddythat\\desktop\\image-generation\\venv\\lib\\site-packages (from tiktoken->openai-whisper) (2.32.3)\n",
      "Requirement already satisfied: charset-normalizer<4,>=2 in c:\\users\\sreekeerthireddythat\\desktop\\image-generation\\venv\\lib\\site-packages (from requests>=2.26.0->tiktoken->openai-whisper) (3.4.2)\n",
      "Requirement already satisfied: idna<4,>=2.5 in c:\\users\\sreekeerthireddythat\\desktop\\image-generation\\venv\\lib\\site-packages (from requests>=2.26.0->tiktoken->openai-whisper) (3.10)\n",
      "Requirement already satisfied: urllib3<3,>=1.21.1 in c:\\users\\sreekeerthireddythat\\desktop\\image-generation\\venv\\lib\\site-packages (from requests>=2.26.0->tiktoken->openai-whisper) (2.4.0)\n",
      "Requirement already satisfied: certifi>=2017.4.17 in c:\\users\\sreekeerthireddythat\\desktop\\image-generation\\venv\\lib\\site-packages (from requests>=2.26.0->tiktoken->openai-whisper) (2025.4.26)\n",
      "Requirement already satisfied: filelock in c:\\users\\sreekeerthireddythat\\desktop\\image-generation\\venv\\lib\\site-packages (from torch->openai-whisper) (3.18.0)\n",
      "Requirement already satisfied: typing-extensions>=4.10.0 in c:\\users\\sreekeerthireddythat\\desktop\\image-generation\\venv\\lib\\site-packages (from torch->openai-whisper) (4.13.2)\n",
      "Requirement already satisfied: sympy>=1.13.3 in c:\\users\\sreekeerthireddythat\\desktop\\image-generation\\venv\\lib\\site-packages (from torch->openai-whisper) (1.14.0)\n",
      "Requirement already satisfied: networkx in c:\\users\\sreekeerthireddythat\\desktop\\image-generation\\venv\\lib\\site-packages (from torch->openai-whisper) (3.4.2)\n",
      "Requirement already satisfied: jinja2 in c:\\users\\sreekeerthireddythat\\desktop\\image-generation\\venv\\lib\\site-packages (from torch->openai-whisper) (3.1.6)\n",
      "Requirement already satisfied: fsspec in c:\\users\\sreekeerthireddythat\\desktop\\image-generation\\venv\\lib\\site-packages (from torch->openai-whisper) (2025.5.1)\n",
      "Requirement already satisfied: setuptools in c:\\users\\sreekeerthireddythat\\desktop\\image-generation\\venv\\lib\\site-packages (from torch->openai-whisper) (80.8.0)\n",
      "Requirement already satisfied: mpmath<1.4,>=1.1.0 in c:\\users\\sreekeerthireddythat\\desktop\\image-generation\\venv\\lib\\site-packages (from sympy>=1.13.3->torch->openai-whisper) (1.3.0)\n",
      "Requirement already satisfied: MarkupSafe>=2.0 in c:\\users\\sreekeerthireddythat\\desktop\\image-generation\\venv\\lib\\site-packages (from jinja2->torch->openai-whisper) (3.0.2)\n",
      "Requirement already satisfied: colorama in c:\\users\\sreekeerthireddythat\\desktop\\image-generation\\venv\\lib\\site-packages (from tqdm->openai-whisper) (0.4.6)\n",
      "Note: you may need to restart the kernel to use updated packages.\n"
     ]
    }
   ],
   "source": [
    "pip install openai-whisper"
   ]
  },
  {
   "cell_type": "code",
   "execution_count": 5,
   "id": "3aebf4df",
   "metadata": {},
   "outputs": [
    {
     "name": "stdout",
     "output_type": "stream",
     "text": [
      "Collecting sounddevice\n",
      "  Downloading sounddevice-0.5.2-py3-none-win_amd64.whl.metadata (1.6 kB)\n",
      "Collecting CFFI>=1.0 (from sounddevice)\n",
      "  Using cached cffi-1.17.1-cp312-cp312-win_amd64.whl.metadata (1.6 kB)\n",
      "Collecting pycparser (from CFFI>=1.0->sounddevice)\n",
      "  Using cached pycparser-2.22-py3-none-any.whl.metadata (943 bytes)\n",
      "Downloading sounddevice-0.5.2-py3-none-win_amd64.whl (363 kB)\n",
      "Using cached cffi-1.17.1-cp312-cp312-win_amd64.whl (181 kB)\n",
      "Using cached pycparser-2.22-py3-none-any.whl (117 kB)\n",
      "Installing collected packages: pycparser, CFFI, sounddevice\n",
      "\n",
      "   ---------------------------------------- 0/3 [pycparser]\n",
      "   ---------------------------------------- 0/3 [pycparser]\n",
      "   ---------------------------------------- 0/3 [pycparser]\n",
      "   ------------- -------------------------- 1/3 [CFFI]\n",
      "   ------------- -------------------------- 1/3 [CFFI]\n",
      "   ------------- -------------------------- 1/3 [CFFI]\n",
      "   ------------- -------------------------- 1/3 [CFFI]\n",
      "   -------------------------- ------------- 2/3 [sounddevice]\n",
      "   ---------------------------------------- 3/3 [sounddevice]\n",
      "\n",
      "Successfully installed CFFI-1.17.1 pycparser-2.22 sounddevice-0.5.2\n"
     ]
    }
   ],
   "source": [
    "!pip install sounddevice\n"
   ]
  },
  {
   "cell_type": "code",
   "execution_count": 6,
   "id": "0bf4b1e4",
   "metadata": {},
   "outputs": [],
   "source": [
    "import whisper\n",
    "import sounddevice as sd\n",
    "import numpy as np"
   ]
  },
  {
   "cell_type": "code",
   "execution_count": 7,
   "id": "350f3852",
   "metadata": {},
   "outputs": [],
   "source": [
    "model = whisper.load_model(\"base\")"
   ]
  },
  {
   "cell_type": "code",
   "execution_count": 8,
   "id": "6dae6e0f",
   "metadata": {},
   "outputs": [],
   "source": [
    "def record_audio(duration=5, fs=16000):\n",
    "    print(\"Recording...\")\n",
    "    audio = sd.rec(int(duration * fs), samplerate=fs, channels=1, dtype='float32')\n",
    "    sd.wait()\n",
    "    return np.squeeze(audio)"
   ]
  },
  {
   "cell_type": "code",
   "execution_count": 9,
   "id": "18d22d6e",
   "metadata": {},
   "outputs": [],
   "source": [
    "def transcribe_audio(audio):\n",
    "    print(\"Transcribing...\")\n",
    "    result = model.transcribe(audio)\n",
    "    return result[\"text\"]"
   ]
  },
  {
   "cell_type": "code",
   "execution_count": 10,
   "id": "19188a2f",
   "metadata": {},
   "outputs": [
    {
     "name": "stdout",
     "output_type": "stream",
     "text": [
      "Recording...\n",
      "Transcribing...\n"
     ]
    },
    {
     "name": "stderr",
     "output_type": "stream",
     "text": [
      "c:\\Users\\SreeKeerthiReddyThat\\Desktop\\Image-generation\\venv\\Lib\\site-packages\\whisper\\transcribe.py:126: UserWarning: FP16 is not supported on CPU; using FP32 instead\n",
      "  warnings.warn(\"FP16 is not supported on CPU; using FP32 instead\")\n"
     ]
    },
    {
     "name": "stdout",
     "output_type": "stream",
     "text": [
      "You said:  Hi, this is Kitty.\n"
     ]
    }
   ],
   "source": [
    "audio_data = record_audio()\n",
    "text = transcribe_audio(audio_data)\n",
    "print(\"You said:\", text)"
   ]
  }
 ],
 "metadata": {
  "kernelspec": {
   "display_name": "venv",
   "language": "python",
   "name": "python3"
  },
  "language_info": {
   "codemirror_mode": {
    "name": "ipython",
    "version": 3
   },
   "file_extension": ".py",
   "mimetype": "text/x-python",
   "name": "python",
   "nbconvert_exporter": "python",
   "pygments_lexer": "ipython3",
   "version": "3.12.3"
  }
 },
 "nbformat": 4,
 "nbformat_minor": 5
}
